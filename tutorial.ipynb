{
 "cells": [
  {
   "cell_type": "markdown",
   "metadata": {},
   "source": [
    "# Mathematical derivations of the split-step Fourier method for solving Schrodinger's equation in both 1-D and 2-D "
   ]
  },
  {
   "cell_type": "markdown",
   "metadata": {},
   "source": [
    "Original author: Jake Vanderplas, email: vanderplas@astro.washington.edu. Adapted for 2-D: Han Chen, hansolo@vt.edu"
   ]
  },
  {
   "cell_type": "markdown",
   "metadata": {},
   "source": [
    "This is a tutorial of the mathematical derivation necessary for transforming the time-dependent Schrodinger's equation (TDSE) from its original form into FFT-compatible (fast-fourier-transform-compatible) form that can be used to calculate the solution of TDSE.\n",
    "\n",
    "The tutorial can be modified to solve heat equations by eliminating the potential term V."
   ]
  },
  {
   "cell_type": "markdown",
   "metadata": {},
   "source": [
    "Schrodinger's equation has the following form: ($j$ is the imaginary number, $j^2 = -1$)\n",
    "\n",
    "$j\\hbar \\frac {\\partial}{\\partial t} \\psi = -\\frac{\\hbar^2}{2m} \\nabla ^2 \\psi + V \\psi$\n",
    "\n",
    "in 1-D, the equation is:\n",
    "\n",
    "1. $j\\hbar \\frac {\\partial}{\\partial t} \\psi = -\\frac{\\hbar^2}{2m} \\frac{\\partial^2 }{\\partial x^2} \\psi + V \\psi$\n",
    "\n",
    "in 2-D, the equation is: (cartesian coordinates)\n",
    "\n",
    "2. $j\\hbar \\frac {\\partial}{\\partial t} \\psi = -\\frac{\\hbar^2}{2m} (\\frac{\\partial^2 }{\\partial x^2} \\psi+\\frac{\\partial^2 }{\\partial y^2} \\psi) + V \\psi$"
   ]
  },
  {
   "cell_type": "markdown",
   "metadata": {},
   "source": [
    "Apply Fourier transform properties on derivatives:\n",
    "\n",
    "in 1-D: the transform independent variable pair x <--> k\n",
    "\n",
    "3. $j\\hbar \\frac {\\partial}{\\partial t} \\psi = \\frac{\\hbar^2 k^2}{2m} \\widetilde{\\psi} + V(j\\frac{\\partial}{\\partial k})\\widetilde{\\psi}$\n",
    "\n",
    "in 2-D: the transform independent variable pair x <--> u, y <-->v\n",
    "\n",
    "4. $j\\hbar \\frac {\\partial}{\\partial t} \\widetilde{\\psi} = \\frac{\\hbar^2 u^2}{2m} \\widetilde{\\psi}+ \\frac{\\hbar^2 v^2}{2m} \\widetilde{\\psi} + V(-\\frac{\\partial}{\\partial u} \\frac{\\partial}{\\partial v}) \\widetilde{\\psi}$"
   ]
  },
  {
   "cell_type": "markdown",
   "metadata": {},
   "source": [
    "Combine the previous two equations to approximate the solutions:\n",
    "\n",
    "in 1-D:\n",
    "\n",
    "5. $j\\hbar \\frac {\\partial}{\\partial t} \\psi \\simeq V(x,t) \\psi$\n",
    "\n",
    "6. $j\\hbar\\frac{\\partial }{\\partial t} \\widetilde{\\psi} \\simeq \\frac{\\hbar^2 k^2}{2m} \\widetilde{\\psi} $\n",
    "\n",
    "in 2-D:\n",
    "\n",
    "7. $j\\hbar \\frac {\\partial}{\\partial t} \\psi \\simeq V(x,y,t) \\psi$\n",
    "\n",
    "8. $j\\hbar\\frac{\\partial }{\\partial t} \\widetilde{\\psi} \\simeq \\frac{\\hbar^2 u^2}{2m} \\widetilde{\\psi}+ \\frac{\\hbar^2 v^2}{2m} \\widetilde{\\psi}$"
   ]
  },
  {
   "cell_type": "markdown",
   "metadata": {},
   "source": [
    "Solving the above two sets of ordinary differential equations, and we arrive at the functions for small time-step evolution:\n",
    "\n",
    "in 1-D:\n",
    "\n",
    "9. $\\psi(x, t + \\Delta t) = \\psi(x, t) \\cdot exp(\\frac {-j V(x) \\Delta t}{\\hbar})$\n",
    "\n",
    "10. $\\widetilde{\\psi}(k, t + \\Delta t) = \\widetilde{\\psi}(k, t) \\cdot exp(\\frac {-j \\hbar k^2 \\Delta t}{2m})$\n",
    "\n",
    "in 2-D:\n",
    "\n",
    "11. $\\psi(x, y, t + \\Delta t) = \\psi(x, y, t) \\cdot exp(\\frac {-j V(x,y) \\Delta t}{\\hbar})$\n",
    "\n",
    "12. $\\widetilde{\\psi}(u, v, t + \\Delta t) = \\widetilde{\\psi}(u, v, t) \\cdot exp(\\frac {-j \\hbar (u^2 + v^2) \\Delta t}{2m})$\n",
    "\n",
    "Equation 9 to 12 will come in handy later."
   ]
  },
  {
   "cell_type": "markdown",
   "metadata": {},
   "source": [
    "Now we try to figure out how to transform between $\\psi$ and $\\widetilde{\\psi}$.\n",
    "We start with their very definitions. Eventually, we want to implement FFT:\n",
    "\n",
    "in 1-D:\n",
    "\n",
    "13. $\\widetilde{\\psi}(k, t) = \\frac{1}{\\sqrt{2\\pi}} \\int_{-\\infty}^{\\infty} \\psi(x, t) e^{-j k x} dx$\n",
    "\n",
    "in 2-D:\n",
    "\n",
    "14. $\\widetilde{\\psi}(u,v, t) = \\frac{1}{2\\pi} \\int_{-\\infty}^{\\infty} \\int_{-\\infty}^{\\infty} \\psi(x, y, t) e^{-j(u x + v y)} dx dy$"
   ]
  },
  {
   "cell_type": "markdown",
   "metadata": {},
   "source": [
    "As an approximation, we switch infinites to a finite domain:\n",
    "\n",
    "in 1-D:\n",
    "\n",
    "15. $\\widetilde{\\psi}(k, t) = \\frac{1}{\\sqrt{2\\pi}} \\int_{a}^{b} \\psi(x, t) e^{-ikx} dx$\n",
    "\n",
    "in 2-D:\n",
    "\n",
    "16. $\\widetilde{\\psi}(u,v, t) = \\frac{1}{2\\pi} \\int_{c}^{d} \\int_{a}^{b} \\psi(x, y, t) e^{-i(u x + v y)} dx dy$\n",
    "\n",
    "where a, b, c, and d would be the domain boundaries that you decide on"
   ]
  },
  {
   "cell_type": "markdown",
   "metadata": {},
   "source": [
    "Now we transform equation 15, and 16 into the form of a discrete sum:\n",
    "\n",
    "in 1-D:\n",
    "\n",
    "17. $\\widetilde{\\psi}(k_m, t) \\simeq \\frac{\\Delta x}{\\sqrt{2\\pi}} \\sum_{n=0}^{N-1} \\psi(x_n, t) e^{-ikx_n} $\n",
    "\n",
    "where:\n",
    "\n",
    "* $x_n = x_0 + n \\Delta x, n = 0,1,...,N, x_0 = a$, and,  $x_0 + N \\Delta x = b$\n",
    "\n",
    "* $k_n = k_0 + m \\Delta k, m = 0,1,...,M, k_0 = - \\frac{\\pi}{\\Delta x}$, and, $\\Delta k = \\frac {2 \\pi}{N \\Delta x}$\n",
    "\n",
    "in 2-D:\n",
    "\n",
    "18. $\\widetilde{\\psi}(u_r, v_s, t) \\simeq \\frac{\\Delta x \\Delta y}{2\\pi} \\sum_{m=0}^{M-1} \\sum_{n=0}^{N-1} \\psi(x_n, y_m, t) e^{-i (u_r x_n + v_s y_m)} $\n",
    "\n",
    "where:\n",
    "\n",
    "* $x_n = x_0 + n \\Delta x, n = 0,1,...,N, x_0 = a$, and,  $x_0 + N \\Delta x = b$\n",
    "\n",
    "* $y_m = y_0 + m \\Delta y, m = 0,1,...,M, y_0 = c$, and,  $y_0 + M \\Delta y = d$\n",
    "\n",
    "* $u_r = u_0 + r \\Delta u, r = 0,1,...,R, u_0 = - \\frac{\\pi}{\\Delta x}$, and, $\\Delta u = \\frac {2 \\pi}{N \\Delta x}$\n",
    "\n",
    "* $v_s = v_0 + s \\Delta v, s = 0,1,...,S, v_0 = - \\frac{\\pi}{\\Delta y}$, and, $\\Delta v = \\frac {2 \\pi}{M \\Delta y}$"
   ]
  },
  {
   "cell_type": "markdown",
   "metadata": {},
   "source": [
    "To proceed further, substitute $k_n = k_0 + m \\Delta k$ into equation 17, and  $u_r = u_0 + r \\Delta u$, $v_s = v_0 + s \\Delta v$ into equation 18:\n",
    "\n",
    "in 1-D:\n",
    "\n",
    "19. $\\widetilde{\\psi}(k_m, t) = \\frac{\\Delta x}{\\sqrt{2\\pi}} \\sum_{n=0}^{N-1} \\psi(x_n, t) e^{-j (k_0 + m \\Delta k) (x_0 + n \\Delta x)}$\n",
    "\n",
    "in 2-D:\n",
    "\n",
    "20. $\\widetilde{\\psi}(u_r, v_s, t) = \\frac{\\Delta x \\Delta y}{2\\pi} \\sum_{m=0}^{M-1} \\sum_{n=0}^{N-1} \\psi(x_n, y_m, t) e^{-j (u_0 + r \\Delta u) (x_0 + n \\Delta x) - j (v_0 + s \\Delta v) (y_0 + m \\Delta y)}$"
   ]
  },
  {
   "cell_type": "markdown",
   "metadata": {},
   "source": [
    "Equation 19 and 20 can be simplified into the following forms: (the lengthy derivations [can be seen here](https://raw.githubusercontent.com/The-real-Han-Chen/Single-slit-and-double-slits-diffraction-Schrodinger-s-equation-in-2D-/master/derivations_and_demos/derivation.part2.jpg))\n",
    "\n",
    "in 1-D:\n",
    "\n",
    "21. $\\widetilde{\\psi}(k_m, t) = \\frac{\\Delta x}{\\sqrt{2\\pi}} \\sum_{n=0}^{N-1} \\psi(x_n, t) e^{-j m \\Delta k x_0} e^{-j k_0 x_n} e^{-2 \\pi j m n / N}$\n",
    "\n",
    "in 2-D:\n",
    "\n",
    "22. $\\widetilde{\\psi}(u_r, v_s, t) = \\frac{\\Delta x \\Delta y}{2\\pi} \\sum_{m=0}^{M-1} \\sum_{n=0}^{N-1} \\psi(x_n, y_m, t) e^{-j r \\Delta u x_0 - j s \\Delta v y_0} e^{-j u_0 x_n - j v_0 y_m} e^{-2 \\pi j r n/N - 2 \\pi j s m/M}$"
   ]
  },
  {
   "cell_type": "markdown",
   "metadata": {},
   "source": [
    "We can shift the constant exponential term out of the sum to the left side:\n",
    "\n",
    "in 1-D:\n",
    "\n",
    "21. $\\widetilde{\\psi}(k_m, t) e^{j m \\Delta k x_0} = \\frac{\\Delta x}{\\sqrt{2\\pi}} \\sum_{n=0}^{N-1} \\psi(x_n, t) e^{-j k_0 x_n} e^{-2 \\pi j m n / N}$\n",
    "\n",
    "in 2-D:\n",
    "\n",
    "22. $\\widetilde{\\psi}(u_r, v_s, t) e^{j r \\Delta u x_0 + j s \\Delta v y_0}  = \\frac{\\Delta x \\Delta y}{2\\pi} \\sum_{m=0}^{M-1} \\sum_{n=0}^{N-1} \\psi(x_n, y_m, t) e^{-j u_0 x_n - j v_0 y_m} e^{-2 \\pi j r n/N} e^{- 2 \\pi j s m/M}$"
   ]
  },
  {
   "cell_type": "markdown",
   "metadata": {},
   "source": [
    "If we introduce the following definitions:\n",
    "\n",
    "in 1-D:\n",
    "\n",
    "23. $\\widetilde{\\psi}_{mod,k} = \\widetilde{\\psi}(k_m, t) e^{j m \\Delta k x_0}$\n",
    "\n",
    "24. $\\psi_{mod,x} = \\psi(x_n, t) e^{-j k_0 x_n}$\n",
    "\n",
    "in 2-D:\n",
    "\n",
    "25. $\\widetilde{\\psi}_{mod,uv} = \\widetilde{\\psi}(u_r, v_s, t) e^{j r \\Delta u x_0 + j s \\Delta v y_0}$\n",
    "\n",
    "26. $\\psi_{mod,xy} = \\psi(x_n, y_m, t) e^{-j u_0 x_n - j v_0 y_m}$"
   ]
  },
  {
   "cell_type": "markdown",
   "metadata": {},
   "source": [
    "Then equation 21 and 22 becomes:\n",
    "\n",
    "in 1-D:\n",
    "\n",
    "27. $\\widetilde{\\psi}_{mod,k} = \\frac{\\Delta x}{\\sqrt{2\\pi}} \\sum_{n=0}^{N-1} \\psi_{mod,x} e^{-2 \\pi j m n / N}$\n",
    "\n",
    "in 2-D:\n",
    "\n",
    "28. $\\widetilde{\\psi}_{mod,uv} = \\frac{\\Delta x \\Delta y}{2\\pi} \\sum_{m=0}^{M-1} \\sum_{n=0}^{N-1} \\psi_{mod,xy} e^{-2 \\pi j r n/N} e^{- 2 \\pi j s m/M}$"
   ]
  },
  {
   "cell_type": "markdown",
   "metadata": {},
   "source": [
    "Equation 27 and 28 fit the definition of function ```fft``` and ```fft2``` from ```scipy.fft```, and can be turned into:\n",
    "\n",
    "in 1-D:\n",
    "\n",
    "29. $\\widetilde{\\psi}_{mod,k} = \\frac{\\Delta x}{\\sqrt{2\\pi}}$ ```fft```$(\\psi_{mod,x})$\n",
    "\n",
    "in 2-D:\n",
    "\n",
    "30. $\\widetilde{\\psi}_{mod,uv} = \\frac{\\Delta x \\Delta y}{2\\pi}$ ```fft2```$(\\psi_{mod,xy})$\n",
    "\n",
    "The definitions of $\\widetilde{\\psi}_{mod,k}$, $(\\psi_{mod,x})$, $\\widetilde{\\psi}_{mod,uv}$, and $(\\psi_{mod,xy})$ can be found in equation 23 to 26"
   ]
  },
  {
   "cell_type": "markdown",
   "metadata": {},
   "source": [
    "```ifft``` and ```ifft2``` can also be used:\n",
    "\n",
    "in 1-D:\n",
    "\n",
    "31. ```ifft```$(\\widetilde{\\psi}_{mod,k}) = \\frac{\\Delta x}{\\sqrt{2\\pi}} \\psi_{mod,x}$\n",
    "\n",
    "in 2-D:\n",
    "\n",
    "32. ```ifft2```$(\\widetilde{\\psi}_{mod,uv}) = \\frac{\\Delta x \\Delta y}{2\\pi} \\psi_{mod,xy}$"
   ]
  },
  {
   "cell_type": "markdown",
   "metadata": {},
   "source": [
    "Finally, to reach the solution at the desired time step, [the split-step loop](https://raw.githubusercontent.com/The-real-Han-Chen/Single-slit-and-double-slits-diffraction-Schrodinger-s-equation-in-2D-/master/derivations_and_demos/derivation.part3.jpg) is used."
   ]
  }
 ],
 "metadata": {
  "kernelspec": {
   "display_name": "Python 3",
   "language": "python",
   "name": "python3"
  },
  "language_info": {
   "codemirror_mode": {
    "name": "ipython",
    "version": 3
   },
   "file_extension": ".py",
   "mimetype": "text/x-python",
   "name": "python",
   "nbconvert_exporter": "python",
   "pygments_lexer": "ipython3",
   "version": "3.7.6"
  }
 },
 "nbformat": 4,
 "nbformat_minor": 4
}
